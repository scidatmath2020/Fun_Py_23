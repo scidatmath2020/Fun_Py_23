{
 "cells": [
  {
   "cell_type": "markdown",
   "metadata": {},
   "source": [
    "![imagenes](logo.png)"
   ]
  },
  {
   "cell_type": "markdown",
   "metadata": {},
   "source": [
    "# Funciones\n",
    "\n",
    "Las funciones son piezas de código delimitadas y a las que se les puede asignar un nombre con el que pueden ser invocadas. Las funciones son uno de varios tipos invocables (callable) de Python.\n",
    "\n",
    "## Definición de una función.\n",
    "\n",
    "De forma general, las funciones en Python se definen de la siguiente manera:\n",
    "\n",
    "```\n",
    "def <nombre>(<parámetros>):\n",
    "    <código>\n",
    "```\n",
    "\n",
    "Las funciones se invocan de la siguiente manera:\n",
    "\n",
    "```\n",
    "<nombre>(<argumentos>)\n",
    "```\n",
    "A lo largo del curso se han invocado múltiples funciones.\n",
    "\n",
    "### Definición de una función mínima.\n",
    "\n",
    "```python\n",
    ">>>> def funcion():\n",
    "...      pass\n",
    "```\n",
    "\n",
    "##### La declaración _pass_.\n",
    "\n",
    "La declaración _pass_ no realiza ninguna acción, pero evita que se genere un error de indentación al crear una función vacía.\n",
    "\n",
    "Cuando la función que se acaba de definir se invoca, no ocurre nada.\n",
    "\n",
    "**Ejemplo:**"
   ]
  },
  {
   "cell_type": "code",
   "execution_count": 1,
   "metadata": {},
   "outputs": [],
   "source": [
    "def funcion_minima():\n",
    "    pass"
   ]
  },
  {
   "cell_type": "code",
   "execution_count": 2,
   "metadata": {},
   "outputs": [],
   "source": [
    "funcion_minima()"
   ]
  },
  {
   "cell_type": "code",
   "execution_count": 3,
   "metadata": {},
   "outputs": [
    {
     "name": "stdout",
     "output_type": "stream",
     "text": [
      "None\n"
     ]
    }
   ],
   "source": [
    "print(funcion_minima())"
   ]
  },
  {
   "cell_type": "code",
   "execution_count": 4,
   "metadata": {},
   "outputs": [
    {
     "data": {
      "text/plain": [
       "function"
      ]
     },
     "execution_count": 4,
     "metadata": {},
     "output_type": "execute_result"
    }
   ],
   "source": [
    "type(funcion_minima)"
   ]
  },
  {
   "cell_type": "markdown",
   "metadata": {},
   "source": [
    "### Una función con código.\n",
    "\n",
    "**Ejemplo:** \n",
    "La siguiente función desplegará un mensaje al ser invocada."
   ]
  },
  {
   "cell_type": "code",
   "execution_count": 5,
   "metadata": {},
   "outputs": [],
   "source": [
    "def saludo():\n",
    "    print('Hola')"
   ]
  },
  {
   "cell_type": "code",
   "execution_count": 6,
   "metadata": {},
   "outputs": [
    {
     "name": "stdout",
     "output_type": "stream",
     "text": [
      "Hola\n"
     ]
    }
   ],
   "source": [
    "saludo()"
   ]
  },
  {
   "cell_type": "code",
   "execution_count": 7,
   "metadata": {},
   "outputs": [
    {
     "name": "stdout",
     "output_type": "stream",
     "text": [
      "Hola\n"
     ]
    }
   ],
   "source": [
    "saludo()"
   ]
  },
  {
   "cell_type": "markdown",
   "metadata": {},
   "source": [
    "En Python, las funciones son objetos. Recordemos que también cuentan con **introspección** mediante docstrings. El primer comentario tipo docstring justo debajo de *def* se utiliza para documentar la función.\n",
    "\n"
   ]
  },
  {
   "cell_type": "code",
   "execution_count": 9,
   "metadata": {},
   "outputs": [],
   "source": [
    "def saludo():\n",
    "    '''Imprime un mensaje de texto''' #comentario tipo sharp\n",
    "    '''En particular imprime la palabra Hola'''\n",
    "    print('Hola')"
   ]
  },
  {
   "cell_type": "code",
   "execution_count": 10,
   "metadata": {},
   "outputs": [
    {
     "name": "stdout",
     "output_type": "stream",
     "text": [
      "Hola\n"
     ]
    }
   ],
   "source": [
    "saludo()"
   ]
  },
  {
   "cell_type": "code",
   "execution_count": 11,
   "metadata": {},
   "outputs": [
    {
     "name": "stdout",
     "output_type": "stream",
     "text": [
      "Help on function saludo in module __main__:\n",
      "\n",
      "saludo()\n",
      "    Imprime un mensaje de texto\n",
      "\n"
     ]
    }
   ],
   "source": [
    "help(saludo)"
   ]
  },
  {
   "cell_type": "markdown",
   "metadata": {},
   "source": [
    "## Ámbitos.\n",
    "\n",
    "El intérprete de Python cuenta con un espacio de nombres en el que se ligan los objetos mediante la asignación de un nombre. Del mismo modo, las funciones crean su propio espacio de nombres, el cual deja de existir tan pronto como la función invocada concluye su ejecución.\n",
    "\n",
    "A estos espacios de nombres diferenciados se les conoce como ámbitos y evita que objetos definidos con nombres idénticos dentro de una función sobrescriban el espacio de nombres del intérprete.\n",
    "\n",
    "**Ejemplo:**"
   ]
  },
  {
   "cell_type": "code",
   "execution_count": 12,
   "metadata": {},
   "outputs": [],
   "source": [
    "variable = \"Hola\""
   ]
  },
  {
   "cell_type": "code",
   "execution_count": 13,
   "metadata": {},
   "outputs": [
    {
     "data": {
      "text/plain": [
       "'Hola'"
      ]
     },
     "execution_count": 13,
     "metadata": {},
     "output_type": "execute_result"
    }
   ],
   "source": [
    "variable"
   ]
  },
  {
   "cell_type": "code",
   "execution_count": 14,
   "metadata": {},
   "outputs": [],
   "source": [
    "def imprimir():\n",
    "    variable = 2\n",
    "    print(variable)"
   ]
  },
  {
   "cell_type": "code",
   "execution_count": 15,
   "metadata": {},
   "outputs": [
    {
     "name": "stdout",
     "output_type": "stream",
     "text": [
      "2\n"
     ]
    }
   ],
   "source": [
    "imprimir()"
   ]
  },
  {
   "cell_type": "code",
   "execution_count": 16,
   "metadata": {},
   "outputs": [
    {
     "data": {
      "text/plain": [
       "'Hola'"
      ]
     },
     "execution_count": 16,
     "metadata": {},
     "output_type": "execute_result"
    }
   ],
   "source": [
    "variable"
   ]
  },
  {
   "cell_type": "markdown",
   "metadata": {},
   "source": [
    "### Ámbito global.\n",
    "\n",
    "El espacio de nombres del intérprete de Python corresponde al ámbito global.\n",
    "\n",
    "#### La función _globals()_.\n",
    "\n",
    "La función _globals()_ regresa el contenido del espacio de nombres del ámbito global como un objeto de tipo _dict_.\n",
    "\n",
    "\n",
    "\n",
    "\n"
   ]
  },
  {
   "cell_type": "code",
   "execution_count": 17,
   "metadata": {},
   "outputs": [
    {
     "data": {
      "text/plain": [
       "{'__name__': '__main__',\n",
       " '__doc__': 'Automatically created module for IPython interactive environment',\n",
       " '__package__': None,\n",
       " '__loader__': None,\n",
       " '__spec__': None,\n",
       " '__builtin__': <module 'builtins' (built-in)>,\n",
       " '__builtins__': <module 'builtins' (built-in)>,\n",
       " '_ih': ['',\n",
       "  'def funcion_minima():\\n    pass',\n",
       "  'funcion_minima()',\n",
       "  'print(funcion_minima())',\n",
       "  'type(funcion_minima)',\n",
       "  \"def saludo():\\n    print('Hola')\",\n",
       "  'saludo()',\n",
       "  'saludo()',\n",
       "  'help(saludo)',\n",
       "  \"def saludo():\\n    '''Imprime un mensaje de texto''' #comentario tipo sharp\\n    '''En particular imprime la palabra Hola'''\\n    print('Hola')\",\n",
       "  'saludo()',\n",
       "  'help(saludo)',\n",
       "  'variable = \"Hola\"',\n",
       "  'variable',\n",
       "  'def imprimir():\\n    variable = 2\\n    print(variable)',\n",
       "  'imprimir()',\n",
       "  'variable',\n",
       "  'globals()'],\n",
       " '_oh': {4: function, 13: 'Hola', 16: 'Hola'},\n",
       " '_dh': [WindowsPath('C:/Users/hp master/Documents/SciData/23_Fun_Py')],\n",
       " 'In': ['',\n",
       "  'def funcion_minima():\\n    pass',\n",
       "  'funcion_minima()',\n",
       "  'print(funcion_minima())',\n",
       "  'type(funcion_minima)',\n",
       "  \"def saludo():\\n    print('Hola')\",\n",
       "  'saludo()',\n",
       "  'saludo()',\n",
       "  'help(saludo)',\n",
       "  \"def saludo():\\n    '''Imprime un mensaje de texto''' #comentario tipo sharp\\n    '''En particular imprime la palabra Hola'''\\n    print('Hola')\",\n",
       "  'saludo()',\n",
       "  'help(saludo)',\n",
       "  'variable = \"Hola\"',\n",
       "  'variable',\n",
       "  'def imprimir():\\n    variable = 2\\n    print(variable)',\n",
       "  'imprimir()',\n",
       "  'variable',\n",
       "  'globals()'],\n",
       " 'Out': {4: function, 13: 'Hola', 16: 'Hola'},\n",
       " 'get_ipython': <bound method InteractiveShell.get_ipython of <ipykernel.zmqshell.ZMQInteractiveShell object at 0x000001954D07A050>>,\n",
       " 'exit': <IPython.core.autocall.ZMQExitAutocall at 0x1954d07e990>,\n",
       " 'quit': <IPython.core.autocall.ZMQExitAutocall at 0x1954d07e990>,\n",
       " 'open': <function io.open(file, mode='r', buffering=-1, encoding=None, errors=None, newline=None, closefd=True, opener=None)>,\n",
       " '_': 'Hola',\n",
       " '__': 'Hola',\n",
       " '___': function,\n",
       " '_i': 'variable',\n",
       " '_ii': 'imprimir()',\n",
       " '_iii': 'def imprimir():\\n    variable = 2\\n    print(variable)',\n",
       " '_i1': 'def funcion_minima():\\n    pass',\n",
       " 'funcion_minima': <function __main__.funcion_minima()>,\n",
       " '_i2': 'funcion_minima()',\n",
       " '_i3': 'print(funcion_minima())',\n",
       " '_i4': 'type(funcion_minima)',\n",
       " '_4': function,\n",
       " '_i5': \"def saludo():\\n    print('Hola')\",\n",
       " 'saludo': <function __main__.saludo()>,\n",
       " '_i6': 'saludo()',\n",
       " '_i7': 'saludo()',\n",
       " '_i8': 'help(saludo)',\n",
       " '_i9': \"def saludo():\\n    '''Imprime un mensaje de texto''' #comentario tipo sharp\\n    '''En particular imprime la palabra Hola'''\\n    print('Hola')\",\n",
       " '_i10': 'saludo()',\n",
       " '_i11': 'help(saludo)',\n",
       " '_i12': 'variable = \"Hola\"',\n",
       " 'variable': 'Hola',\n",
       " '_i13': 'variable',\n",
       " '_13': 'Hola',\n",
       " '_i14': 'def imprimir():\\n    variable = 2\\n    print(variable)',\n",
       " 'imprimir': <function __main__.imprimir()>,\n",
       " '_i15': 'imprimir()',\n",
       " '_i16': 'variable',\n",
       " '_16': 'Hola',\n",
       " '_i17': 'globals()'}"
      ]
     },
     "execution_count": 17,
     "metadata": {},
     "output_type": "execute_result"
    }
   ],
   "source": [
    "globals()"
   ]
  },
  {
   "cell_type": "markdown",
   "metadata": {},
   "source": [
    "\n",
    "### Ámbitos locales.\n",
    "\n",
    "Cada función genera su propio espacio de nombres cada vez que es invocada. Cada uno de estos espacios de nombres es un ámbito local.\n",
    "\n",
    "#### La función _locals()_.\n",
    "\n",
    "La función _locals()_ regresa el contenido del espacio de nombres del ámbito local como un objeto de tipo _dict_. Cuando se invoca la función _dir()_ sin argumentos desde una función, ésta regresa un objeto de tipo _list_ con el listado de nombres del ámbito local.\n",
    "\n",
    "**Ejemplo:**\n",
    "\n",
    "Se definirá la función _ambitos()_, la cual desplegará, el contenido de su ámbito local mediante _locals()_ y _dir()_, además del espacio de nombres del ámbito global con _globals()_. Posteriormente se ejecutará la función _dir()_ desde el intérprete.\n",
    "\n"
   ]
  },
  {
   "cell_type": "code",
   "execution_count": 18,
   "metadata": {},
   "outputs": [],
   "source": [
    "def ambitos():\n",
    "    lista = [1, 2, 3]\n",
    "    nulo = None\n",
    "    print('Espacio de nombres en el ámbito local:')\n",
    "    print('%s\\n%s\\n' %(locals(), dir()))\n",
    "    print('----------------')\n",
    "    print('Espacio de nombres en el ámbito global:')\n",
    "    print(globals())"
   ]
  },
  {
   "cell_type": "code",
   "execution_count": 25,
   "metadata": {},
   "outputs": [],
   "source": [
    "def suma(x,y):\n",
    "    def discriminador(x):\n",
    "        if x == 0:\n",
    "            x = x+1\n",
    "        return x\n",
    "    X = discriminador(x)\n",
    "    print(X+y)"
   ]
  },
  {
   "cell_type": "code",
   "execution_count": 28,
   "metadata": {},
   "outputs": [
    {
     "name": "stdout",
     "output_type": "stream",
     "text": [
      "13\n"
     ]
    }
   ],
   "source": [
    "suma(0,12)"
   ]
  },
  {
   "cell_type": "code",
   "execution_count": 19,
   "metadata": {},
   "outputs": [
    {
     "name": "stdout",
     "output_type": "stream",
     "text": [
      "Espacio de nombres en el ámbito local:\n",
      "{'lista': [1, 2, 3], 'nulo': None}\n",
      "['lista', 'nulo']\n",
      "\n",
      "----------------\n",
      "Espacio de nombres en el ámbito global:\n",
      "{'__name__': '__main__', '__doc__': 'Automatically created module for IPython interactive environment', '__package__': None, '__loader__': None, '__spec__': None, '__builtin__': <module 'builtins' (built-in)>, '__builtins__': <module 'builtins' (built-in)>, '_ih': ['', 'def funcion_minima():\\n    pass', 'funcion_minima()', 'print(funcion_minima())', 'type(funcion_minima)', \"def saludo():\\n    print('Hola')\", 'saludo()', 'saludo()', 'help(saludo)', \"def saludo():\\n    '''Imprime un mensaje de texto''' #comentario tipo sharp\\n    '''En particular imprime la palabra Hola'''\\n    print('Hola')\", 'saludo()', 'help(saludo)', 'variable = \"Hola\"', 'variable', 'def imprimir():\\n    variable = 2\\n    print(variable)', 'imprimir()', 'variable', 'globals()', \"def ambitos():\\n    lista = [1, 2, 3]\\n    nulo = None\\n    print('Espacio de nombres en el ámbito local:')\\n    print('%s\\\\n%s\\\\n' %(locals(), dir()))\\n    print('----------------')\\n    print('Espacio de nombres en el ámbito global:')\\n    print(globals())\", 'ambitos()'], '_oh': {4: <class 'function'>, 13: 'Hola', 16: 'Hola', 17: {...}}, '_dh': [WindowsPath('C:/Users/hp master/Documents/SciData/23_Fun_Py')], 'In': ['', 'def funcion_minima():\\n    pass', 'funcion_minima()', 'print(funcion_minima())', 'type(funcion_minima)', \"def saludo():\\n    print('Hola')\", 'saludo()', 'saludo()', 'help(saludo)', \"def saludo():\\n    '''Imprime un mensaje de texto''' #comentario tipo sharp\\n    '''En particular imprime la palabra Hola'''\\n    print('Hola')\", 'saludo()', 'help(saludo)', 'variable = \"Hola\"', 'variable', 'def imprimir():\\n    variable = 2\\n    print(variable)', 'imprimir()', 'variable', 'globals()', \"def ambitos():\\n    lista = [1, 2, 3]\\n    nulo = None\\n    print('Espacio de nombres en el ámbito local:')\\n    print('%s\\\\n%s\\\\n' %(locals(), dir()))\\n    print('----------------')\\n    print('Espacio de nombres en el ámbito global:')\\n    print(globals())\", 'ambitos()'], 'Out': {4: <class 'function'>, 13: 'Hola', 16: 'Hola', 17: {...}}, 'get_ipython': <bound method InteractiveShell.get_ipython of <ipykernel.zmqshell.ZMQInteractiveShell object at 0x000001954D07A050>>, 'exit': <IPython.core.autocall.ZMQExitAutocall object at 0x000001954D07E990>, 'quit': <IPython.core.autocall.ZMQExitAutocall object at 0x000001954D07E990>, 'open': <function open at 0x000001954AFD3420>, '_': {...}, '__': 'Hola', '___': 'Hola', '_i': \"def ambitos():\\n    lista = [1, 2, 3]\\n    nulo = None\\n    print('Espacio de nombres en el ámbito local:')\\n    print('%s\\\\n%s\\\\n' %(locals(), dir()))\\n    print('----------------')\\n    print('Espacio de nombres en el ámbito global:')\\n    print(globals())\", '_ii': 'globals()', '_iii': 'variable', '_i1': 'def funcion_minima():\\n    pass', 'funcion_minima': <function funcion_minima at 0x000001954BDAFE20>, '_i2': 'funcion_minima()', '_i3': 'print(funcion_minima())', '_i4': 'type(funcion_minima)', '_4': <class 'function'>, '_i5': \"def saludo():\\n    print('Hola')\", 'saludo': <function saludo at 0x000001954D0AD9E0>, '_i6': 'saludo()', '_i7': 'saludo()', '_i8': 'help(saludo)', '_i9': \"def saludo():\\n    '''Imprime un mensaje de texto''' #comentario tipo sharp\\n    '''En particular imprime la palabra Hola'''\\n    print('Hola')\", '_i10': 'saludo()', '_i11': 'help(saludo)', '_i12': 'variable = \"Hola\"', 'variable': 'Hola', '_i13': 'variable', '_13': 'Hola', '_i14': 'def imprimir():\\n    variable = 2\\n    print(variable)', 'imprimir': <function imprimir at 0x000001954D0AD8A0>, '_i15': 'imprimir()', '_i16': 'variable', '_16': 'Hola', '_i17': 'globals()', '_17': {...}, '_i18': \"def ambitos():\\n    lista = [1, 2, 3]\\n    nulo = None\\n    print('Espacio de nombres en el ámbito local:')\\n    print('%s\\\\n%s\\\\n' %(locals(), dir()))\\n    print('----------------')\\n    print('Espacio de nombres en el ámbito global:')\\n    print(globals())\", 'ambitos': <function ambitos at 0x000001954D0ACC20>, '_i19': 'ambitos()'}\n"
     ]
    }
   ],
   "source": [
    "ambitos()"
   ]
  },
  {
   "cell_type": "markdown",
   "metadata": {},
   "source": [
    "### Búsqueda de nombres entre ámbitos.\n",
    "\n",
    "Cuando se invoca a una función y se hace una referencia a un nombre, el intérprete primeramente busca una coincidencia dentro del ámbito local y posteriormente en el ámbito global. En caso de no encontrarla, se generará un error de tipo _NameError_.\n",
    "\n",
    "**Ejemplo:**\n",
    "\n",
    "* Se creará la función _trino()_, haciendo referencia al nombre _ave_, pero no se definirá en el ámbito global ni en el local.\n",
    "* Se invocará a la función _trino()_.\n",
    "* Se definirá a un objeto de tipo _str_ con el nombre _ave_.\n",
    "* Se invocará nuevamente a la función _trino()_.\n",
    "\n"
   ]
  },
  {
   "cell_type": "code",
   "execution_count": null,
   "metadata": {},
   "outputs": [],
   "source": [
    "def trino():\n",
    "    print(ave * 3)"
   ]
  },
  {
   "cell_type": "code",
   "execution_count": null,
   "metadata": {},
   "outputs": [],
   "source": [
    "ave"
   ]
  },
  {
   "cell_type": "code",
   "execution_count": null,
   "metadata": {},
   "outputs": [],
   "source": [
    "trino()"
   ]
  },
  {
   "cell_type": "code",
   "execution_count": null,
   "metadata": {},
   "outputs": [],
   "source": [
    "ave = 'pio'"
   ]
  },
  {
   "cell_type": "code",
   "execution_count": null,
   "metadata": {},
   "outputs": [],
   "source": [
    "trino()"
   ]
  },
  {
   "cell_type": "markdown",
   "metadata": {},
   "source": [
    "**Ejemplo:**\n",
    "\n",
    "* Se creará la función _multiplica()_, definiendo en el ámbito local a un objeto de tipo _int_ con el nombre _factor_ y haciendo una referencia dicho nombre.\n",
    "* Se invocará a la función _multiplica()_.\n",
    "* Se definirá a un objeto de tipo _str_ con el nombre _factor_.\n",
    "* Se invocará nuevamente a la función _multiplica()_."
   ]
  },
  {
   "cell_type": "code",
   "execution_count": null,
   "metadata": {},
   "outputs": [],
   "source": [
    "def multiplica():\n",
    "    factor = 12\n",
    "    print(factor * 5)"
   ]
  },
  {
   "cell_type": "code",
   "execution_count": null,
   "metadata": {},
   "outputs": [],
   "source": [
    "multiplica()"
   ]
  },
  {
   "cell_type": "code",
   "execution_count": null,
   "metadata": {},
   "outputs": [],
   "source": [
    "factor = \"hola\""
   ]
  },
  {
   "cell_type": "code",
   "execution_count": null,
   "metadata": {},
   "outputs": [],
   "source": [
    "multiplica()"
   ]
  },
  {
   "cell_type": "markdown",
   "metadata": {},
   "source": [
    "### Definiendo nombres en el ámbito global con la expresión _global_.\n",
    "\n",
    "Es posible que una función pueda ligar un objeto al espacio de nombres del ámbito global mediante el uso de la expresión _global_ con la siguiente sintaxis.\n",
    "\n",
    "```\n",
    "global <nombre>\n",
    "<nombre> = <valor>\n",
    "```\n",
    "**Ejemplo:**"
   ]
  },
  {
   "cell_type": "code",
   "execution_count": null,
   "metadata": {},
   "outputs": [],
   "source": [
    "nombre = \"Juan\""
   ]
  },
  {
   "cell_type": "code",
   "execution_count": null,
   "metadata": {},
   "outputs": [],
   "source": [
    "def nombre_global():\n",
    "    global nombre\n",
    "    nombre = \"Hola\"\n",
    "    print(nombre)"
   ]
  },
  {
   "cell_type": "code",
   "execution_count": null,
   "metadata": {},
   "outputs": [],
   "source": [
    "nombre"
   ]
  },
  {
   "cell_type": "code",
   "execution_count": null,
   "metadata": {},
   "outputs": [],
   "source": [
    "nombre_global()"
   ]
  },
  {
   "cell_type": "code",
   "execution_count": null,
   "metadata": {},
   "outputs": [],
   "source": [
    "nombre"
   ]
  },
  {
   "cell_type": "markdown",
   "metadata": {},
   "source": [
    "## Parámetros y argumentos.\n",
    "\n",
    "Es posible ingresar datos a una función al ser invocadas. A estos datos se les denomina argumentos y son ligados a nombres, los cuales se conocen como parámetros. El número de argumentos ingresados debe corresponder al número de parámetros que se definen. En caso de que no se ingresen los argumentos necesarios, se generará un error de tipo _TypeError_.\n",
    "\n",
    "**Ejemplo:**\n",
    "\n"
   ]
  },
  {
   "cell_type": "code",
   "execution_count": null,
   "metadata": {},
   "outputs": [],
   "source": [
    "def suma(primero, segundo):\n",
    "    '''Despliega la suma de exactamente dos objetos'''\n",
    "    print(primero + segundo)"
   ]
  },
  {
   "cell_type": "code",
   "execution_count": null,
   "metadata": {},
   "outputs": [],
   "source": [
    "suma(12, 5)"
   ]
  },
  {
   "cell_type": "code",
   "execution_count": null,
   "metadata": {},
   "outputs": [],
   "source": [
    "suma('Hola, ', 'Mundo.')"
   ]
  },
  {
   "cell_type": "code",
   "execution_count": null,
   "metadata": {},
   "outputs": [],
   "source": [
    "suma(1)"
   ]
  },
  {
   "cell_type": "code",
   "execution_count": null,
   "metadata": {},
   "outputs": [],
   "source": [
    "help(suma)"
   ]
  },
  {
   "cell_type": "code",
   "execution_count": null,
   "metadata": {},
   "outputs": [],
   "source": [
    "suma('Hola')"
   ]
  },
  {
   "cell_type": "code",
   "execution_count": null,
   "metadata": {},
   "outputs": [],
   "source": [
    "suma('Hola, ', 'Mundo', '.')"
   ]
  },
  {
   "cell_type": "markdown",
   "metadata": {},
   "source": [
    "### Parámetros con argumentos por defecto.\n",
    "\n",
    "Es posible asignar valores por defecto a cada parámetro definido en una función mediante el operado de asignación ( *=* ).\n",
    "\n",
    "Si a todos los parámetros se les asigna un valor, entonces no es necesario ingresar argumentos al invocar la función, ya que dichos valores serán utilizados. Los argumentos que se ingresen se irán sustituyendo de izquierda a derecha.\n",
    "\n",
    "**Ejemplo:**"
   ]
  },
  {
   "cell_type": "code",
   "execution_count": null,
   "metadata": {},
   "outputs": [],
   "source": [
    "def suma(primero=1, segundo=3):\n",
    "    '''Despliega la suma de dos objetos'''\n",
    "    print(primero + segundo)"
   ]
  },
  {
   "cell_type": "code",
   "execution_count": null,
   "metadata": {},
   "outputs": [],
   "source": [
    "suma()"
   ]
  },
  {
   "cell_type": "code",
   "execution_count": null,
   "metadata": {},
   "outputs": [],
   "source": [
    "suma(segundo=2,primero=1)"
   ]
  },
  {
   "cell_type": "code",
   "execution_count": null,
   "metadata": {},
   "outputs": [],
   "source": [
    "suma(5, 5)"
   ]
  },
  {
   "cell_type": "code",
   "execution_count": null,
   "metadata": {},
   "outputs": [],
   "source": [
    "def potencia(base = 1,exponente=1):\n",
    "    print(base ** exponente)\n"
   ]
  },
  {
   "cell_type": "code",
   "execution_count": null,
   "metadata": {},
   "outputs": [],
   "source": [
    "potencia(exponente=2,base=4)"
   ]
  },
  {
   "cell_type": "code",
   "execution_count": null,
   "metadata": {},
   "outputs": [],
   "source": [
    "potencia(2,5)"
   ]
  },
  {
   "cell_type": "code",
   "execution_count": null,
   "metadata": {},
   "outputs": [],
   "source": [
    "potencia(5,2)"
   ]
  },
  {
   "cell_type": "code",
   "execution_count": null,
   "metadata": {},
   "outputs": [],
   "source": [
    "potencia(base=5,exponente=2)"
   ]
  },
  {
   "cell_type": "markdown",
   "metadata": {},
   "source": [
    "Si se asignaran valores por defecto a sólo algunos parámetros, dichos valores se deben dejar a la  derecha de la lista de parámetros. De no ser así, se generará un error de tipo _SyntaxError_.\n",
    "\n",
    "**Ejemplo:**"
   ]
  },
  {
   "cell_type": "code",
   "execution_count": null,
   "metadata": {},
   "outputs": [],
   "source": [
    "def potencia(base,cociente,exponente=3):\n",
    "    '''Despliega base^exponente / cociente'''\n",
    "    print(base ** exponente / cociente)"
   ]
  },
  {
   "cell_type": "code",
   "execution_count": null,
   "metadata": {},
   "outputs": [],
   "source": [
    "potencia(2,4)"
   ]
  },
  {
   "cell_type": "code",
   "execution_count": null,
   "metadata": {},
   "outputs": [],
   "source": [
    "potencia(2)"
   ]
  },
  {
   "cell_type": "code",
   "execution_count": null,
   "metadata": {},
   "outputs": [],
   "source": [
    "potencia(\"2\", \"45\")"
   ]
  },
  {
   "cell_type": "markdown",
   "metadata": {},
   "source": [
    "**Ejemplo:**"
   ]
  },
  {
   "cell_type": "code",
   "execution_count": null,
   "metadata": {},
   "outputs": [],
   "source": [
    "def suma(primero=1, segundo):\n",
    "    '''Despliega la suma de dos objetos'''\n",
    "    print(primero + segundo)"
   ]
  },
  {
   "cell_type": "code",
   "execution_count": null,
   "metadata": {},
   "outputs": [],
   "source": [
    "def suma(segundo, primero=1):\n",
    "    '''Despliega la suma de dos objetos'''\n",
    "    print(primero + segundo)"
   ]
  },
  {
   "cell_type": "markdown",
   "metadata": {},
   "source": [
    "### Captura de varios argumentos en un parámetro de tipo _tuple_ (*args).\n",
    "\n",
    "Es posible definir un parámetro que acepte un número indeterminado de argumentos y que éstos queden guardados dentro de un objeto tipo _tuple_. Para esto, basta preceder al nombre del parámetro con un solo asterisco (*).\n",
    "\n",
    "**Ejemplo:**"
   ]
  },
  {
   "cell_type": "code",
   "execution_count": 31,
   "metadata": {},
   "outputs": [],
   "source": [
    "def promedio(*muestras):\n",
    "    '''Calcula el promedio de la muestra correspondiente a todos los parámetros ingresados.'''\n",
    "    promedio = sum(muestras)/len(muestras)\n",
    "    print(f'El promedio de la muestra de {len(muestras)} elementos es {promedio}.')"
   ]
  },
  {
   "cell_type": "code",
   "execution_count": 32,
   "metadata": {},
   "outputs": [
    {
     "name": "stdout",
     "output_type": "stream",
     "text": [
      "El promedio de la muestra de 8 elementos es 21.375.\n"
     ]
    }
   ],
   "source": [
    "promedio(1, 3, 5, 8, 11, 24, 90, 29)"
   ]
  },
  {
   "cell_type": "code",
   "execution_count": 33,
   "metadata": {},
   "outputs": [
    {
     "name": "stdout",
     "output_type": "stream",
     "text": [
      "El promedio de la muestra de 3 elementos es 17.666666666666668.\n"
     ]
    }
   ],
   "source": [
    "promedio(14, 38, 1)"
   ]
  },
  {
   "cell_type": "code",
   "execution_count": 35,
   "metadata": {},
   "outputs": [],
   "source": [
    "def promedio_listas(lista):\n",
    "    promedio = sum(lista)/len(lista)\n",
    "    print(f'El promedio de la muestra de {len(lista)} elementos es {promedio}.')"
   ]
  },
  {
   "cell_type": "code",
   "execution_count": 37,
   "metadata": {},
   "outputs": [
    {
     "name": "stdout",
     "output_type": "stream",
     "text": [
      "El promedio de la muestra de 4 elementos es 2.75.\n"
     ]
    }
   ],
   "source": [
    "promedio_listas([1,2,3,5])"
   ]
  },
  {
   "cell_type": "markdown",
   "metadata": {},
   "source": [
    "El parámetro que recibe más de un argumento debe definirse al final de la lista de parámetros.\n",
    "\n",
    "**Ejemplo:**"
   ]
  },
  {
   "cell_type": "code",
   "execution_count": null,
   "metadata": {},
   "outputs": [],
   "source": [
    "def promedio(titulo, *muestras):\n",
    "    '''Calcula el promedio de la muestra correspondiente a todos los parámetros ingresados con excepción\n",
    "       del primero, el cual será utilizado como título.'''\n",
    "    promedio = sum(muestras)/len(muestras)\n",
    "    print(titulo)\n",
    "    print(f'El promedio de la muestra de {len(muestra)} elementos es {promedio}.')"
   ]
  },
  {
   "cell_type": "code",
   "execution_count": null,
   "metadata": {},
   "outputs": [],
   "source": [
    "promedio('Conteo de abejas en campo.', 34, 45, 61, 23, 47, 41, 52)"
   ]
  },
  {
   "cell_type": "code",
   "execution_count": null,
   "metadata": {},
   "outputs": [],
   "source": [
    "promedio(1, 3, 5, 8, 11, 24, 90, 29)"
   ]
  },
  {
   "cell_type": "code",
   "execution_count": null,
   "metadata": {},
   "outputs": [],
   "source": [
    "def promedio_titulado(titulo,*muestras,imprimir = False):\n",
    "    promedio = sum(muestras)/len(muestras)\n",
    "    if imprimir == True:\n",
    "        print(titulo)\n",
    "    print(f'El promedio de la muestra de {len(muestra)} elementos es {promedio}.')"
   ]
  },
  {
   "cell_type": "code",
   "execution_count": null,
   "metadata": {},
   "outputs": [],
   "source": [
    "promedio_titulado(\"hola\",1,2,3,imprimir = True)"
   ]
  },
  {
   "cell_type": "markdown",
   "metadata": {},
   "source": [
    "### Captura de varios argumentos en un parámetro de tipo *dict* (**kargs).\n",
    "\n",
    "Es posible definir los parámetros y valores que se ingresan a una función mediante el uso de la sintaxis _nombre = valor_ y que estos parámetros queden almacenados en un objeto tipo _dict_. Para esto, basta preceder al nombre del parámetro con doble asterisco ( _**_ ).\n",
    "\n",
    "**Ejemplo:**"
   ]
  },
  {
   "cell_type": "code",
   "execution_count": 38,
   "metadata": {},
   "outputs": [],
   "source": [
    "def superficie(**dato):\n",
    "    '''Calcula la superficie de una figura geométrica si los parámetros  ingresados\n",
    "       coinciden.'''\n",
    "    print(dato)\n",
    "    if dato[\"tipo\"] == \"Rectángulo\":\n",
    "        superficie = float(dato[\"base\"]) * float(dato[\"altura\"])\n",
    "    elif dato[\"tipo\"] == \"Triángulo\":\n",
    "        superficie = float(dato[\"base\"]) * float(dato[\"altura\"]) / 2\n",
    "    elif dato[\"tipo\"] == \"Círculo\":\n",
    "        superficie = float(dato[\"radio\"]) ** 2 * 3.14259265\n",
    "    else:\n",
    "        print(\"No puedo calcular la superficie.\")\n",
    "        superficie = \"indefinido\"\n",
    "    print(f\"La superficie del {dato['tipo'].lower()} es de {superficie}\")"
   ]
  },
  {
   "cell_type": "code",
   "execution_count": 39,
   "metadata": {},
   "outputs": [
    {
     "name": "stdout",
     "output_type": "stream",
     "text": [
      "{'base': 22, 'altura': 30, 'tipo': 'Rectángulo'}\n",
      "La superficie del rectángulo es de 660.0\n"
     ]
    }
   ],
   "source": [
    "superficie(base=22, altura=30, tipo=\"Rectángulo\")"
   ]
  },
  {
   "cell_type": "code",
   "execution_count": null,
   "metadata": {
    "scrolled": true
   },
   "outputs": [],
   "source": [
    "superficie(tipo=\"Círculo\", radio = 35)"
   ]
  },
  {
   "cell_type": "code",
   "execution_count": null,
   "metadata": {},
   "outputs": [],
   "source": [
    "superficie(base=22, altura=30, tipo=\"Rombo\")"
   ]
  },
  {
   "cell_type": "code",
   "execution_count": null,
   "metadata": {},
   "outputs": [],
   "source": [
    "superficie(base=22, altura=30, tipo=\"Rectángulo\", radio=6)"
   ]
  },
  {
   "cell_type": "code",
   "execution_count": null,
   "metadata": {},
   "outputs": [],
   "source": [
    "superficie(base=22,radio=6,tipo=\"Rectángulo\")"
   ]
  },
  {
   "cell_type": "markdown",
   "metadata": {},
   "source": [
    "## Funciones que regresan valores.\n",
    "\n",
    "Todas las funciones regresan un valor al finalizar su ejecución al cual se le puede asignar un nombre si se desea conservarlo. Por defecto, el valor que regresan es _None_, el cual a diferencia de otros valores no es desplegado por el intérprete.\n",
    "\n",
    "**Ejemplo:**"
   ]
  },
  {
   "cell_type": "code",
   "execution_count": null,
   "metadata": {},
   "outputs": [],
   "source": [
    "def funcion_vacia():\n",
    "    pass"
   ]
  },
  {
   "cell_type": "code",
   "execution_count": null,
   "metadata": {},
   "outputs": [],
   "source": [
    "resultado = funcion_vacia()\n",
    "print(resultado)"
   ]
  },
  {
   "cell_type": "code",
   "execution_count": null,
   "metadata": {},
   "outputs": [],
   "source": [
    "resultado"
   ]
  },
  {
   "cell_type": "markdown",
   "metadata": {
    "collapsed": true
   },
   "source": [
    "### La expresión _return_.\n",
    "\n",
    "La expresión _return_ se utiliza para regresar un objeto específico a su ámbito superior y acto seguido dar por terminada la ejecución de la función de forma similar a _break_. Pueden incluirse varias expresiones _return_ en una función, pero sólo se ejecutará la primera que se encuentre. La sintaxis es la siguiente:\n",
    "\n",
    "```\n",
    "return <objeto 1>, <objeto 2>, ..., <objeto n> \n",
    "```\n",
    "\n",
    "**Ejemplo:**"
   ]
  },
  {
   "cell_type": "code",
   "execution_count": 40,
   "metadata": {},
   "outputs": [],
   "source": [
    "def promedio(*muestras):\n",
    "    return len(muestras), sum(muestras) / len(muestras)\n",
    "    print(sum(muestras))"
   ]
  },
  {
   "cell_type": "code",
   "execution_count": 41,
   "metadata": {},
   "outputs": [
    {
     "data": {
      "text/plain": [
       "(8, 21.375)"
      ]
     },
     "execution_count": 41,
     "metadata": {},
     "output_type": "execute_result"
    }
   ],
   "source": [
    "promedio(1, 3, 5, 8, 11, 24, 90, 29)"
   ]
  },
  {
   "cell_type": "code",
   "execution_count": 42,
   "metadata": {},
   "outputs": [],
   "source": [
    "media = promedio(1, 3, 5, 8, 11, 24, 90, 29)"
   ]
  },
  {
   "cell_type": "code",
   "execution_count": 43,
   "metadata": {},
   "outputs": [
    {
     "data": {
      "text/plain": [
       "(8, 21.375)"
      ]
     },
     "execution_count": 43,
     "metadata": {},
     "output_type": "execute_result"
    }
   ],
   "source": [
    "media"
   ]
  },
  {
   "cell_type": "code",
   "execution_count": 44,
   "metadata": {},
   "outputs": [
    {
     "name": "stdout",
     "output_type": "stream",
     "text": [
      "El promedio de la muestra de 8 elementos es 21.375.\n"
     ]
    }
   ],
   "source": [
    "print(f'El promedio de la muestra de {media[0]} elementos es {media[1]}.')"
   ]
  },
  {
   "cell_type": "markdown",
   "metadata": {
    "collapsed": true
   },
   "source": [
    "## Funciones anidadas.\n",
    "\n",
    "Python permite definir funciones dentro de otras funciones.\n",
    "\n",
    "**Ejemplo:**\n"
   ]
  },
  {
   "cell_type": "code",
   "execution_count": null,
   "metadata": {},
   "outputs": [],
   "source": [
    "def lista_primos(limite=100):\n",
    "    '''Genera una lista de los números primos comprendidos entre el 2 y el valor de limite.'''\n",
    "    #La lista inicia con el número 2\n",
    "    lista = [2]\n",
    "   \n",
    "    def esprimo(numero):\n",
    "        '''Valida si numero es divisible entre algún elemento de lista. De ocurrir, \n",
    "        regresa False. De lo contrario, regresa True.'''\n",
    "        for primo in lista:\n",
    "            if numero % primo == 0:\n",
    "                return False\n",
    "        return True\n",
    "    \n",
    "    #Se realizará una iteración de cada número entero desde 3 hasta el valor de limite.\n",
    "    for numero in range(3, limite + 1): # recordemos que range(a,m) son los números a, a+1, a+2, ..., m-1\n",
    "        #Si esprimo(numero) regresa True, añade el valor de numero a lista\n",
    "        if esprimo(numero):\n",
    "            lista.append(numero)\n",
    "    return lista"
   ]
  },
  {
   "cell_type": "code",
   "execution_count": null,
   "metadata": {},
   "outputs": [],
   "source": [
    "lista_primos(20)"
   ]
  },
  {
   "cell_type": "markdown",
   "metadata": {},
   "source": [
    "En el ejemplo anterior se definió a la función *esprimo()* dentro de la función *listaprimos()*. Como se puede observar, el nombre *lista* está en el espacio de nombres de *listaprimos()*, pero al estar en un entorno superior al ámbito de *esprimo()*, éste puede acceder a *lista*."
   ]
  },
  {
   "cell_type": "markdown",
   "metadata": {},
   "source": [
    "## Recursividad.\n",
    "\n",
    "Python permite hacer llamadas recursivas a una función. Es decir, que la función se invoque a si misma. \n",
    "\n",
    "Cada vez que una función se invoca a si misma, Python crea un nuevo objeto de tipo _function_ con las mismas características que la función original, pero con un ámbito totalmente nuevo y de nivel inferior a la función original.\n",
    "\n",
    "**Ejemplo:**"
   ]
  },
  {
   "cell_type": "markdown",
   "metadata": {},
   "source": [
    "5! = 5 * 4 * 3 * 2 * 1"
   ]
  },
  {
   "cell_type": "markdown",
   "metadata": {},
   "source": [
    "5! = 5 * 4!"
   ]
  },
  {
   "cell_type": "markdown",
   "metadata": {},
   "source": [
    "4! = 4 * 3!"
   ]
  },
  {
   "cell_type": "markdown",
   "metadata": {},
   "source": [
    "1! = 1"
   ]
  },
  {
   "cell_type": "markdown",
   "metadata": {},
   "source": [
    "Por definición, $0!=1$"
   ]
  },
  {
   "cell_type": "code",
   "execution_count": null,
   "metadata": {},
   "outputs": [],
   "source": [
    "def factorial(numero):\n",
    "    if numero == 0:\n",
    "        return 1\n",
    "    else:\n",
    "        fact = numero * factorial(numero - 1)\n",
    "        return fact"
   ]
  },
  {
   "cell_type": "code",
   "execution_count": null,
   "metadata": {},
   "outputs": [],
   "source": [
    "factorial(5)"
   ]
  },
  {
   "cell_type": "code",
   "execution_count": null,
   "metadata": {},
   "outputs": [],
   "source": [
    "factorial(-1)"
   ]
  },
  {
   "cell_type": "markdown",
   "metadata": {},
   "source": [
    "Con las potencias es análogo: si $a\\neq 0$, entonces $a^{n+1}=a\\times a^n$ y $a^0=1$\n",
    "\n",
    "**Tarea:** Programar la función **potencia(a,n)** que reciba como paramétros dos enteros no negativos a y n de tal manera que:\n",
    "\n",
    "* Si a=0 y n=0, devuelva \"Indefinido\".\n",
    "\n",
    "* Si a!=0  n>0 devuelva a^n\n",
    "\n",
    "* Si a!=0 y n=0 devuelva 1\n"
   ]
  },
  {
   "cell_type": "markdown",
   "metadata": {},
   "source": [
    "En este caso, la función _factorial()_ se invoca recursivamente, pero cada vez que lo hace, el valor del argumento decrece en 1 de forma sucesiva hasta que el parámetro _numero_ alcanza el valor de 1 y regresa dicho valor. Es entonces que la cerradura de la función de nivel inferior se multiplica por el parámetro _numero_ de la función superior hasta llegar a la función de más alto nivel.\n",
    "\n",
    "Ahora se incluirán algunas modificaciones al ejemplo anterior para ilustrar el proceso."
   ]
  },
  {
   "cell_type": "code",
   "execution_count": null,
   "metadata": {},
   "outputs": [],
   "source": [
    "def factorial(numero):\n",
    "    print('En este ámbito, numero =', numero)\n",
    "    if numero == 1:\n",
    "        print('Llegó al final.\\nRegresa 1!')\n",
    "        return 1\n",
    "    else:\n",
    "        fact = numero * factorial(numero - 1)\n",
    "        print('Regresa %d!: %d' %(numero, fact))\n",
    "        return fact"
   ]
  },
  {
   "cell_type": "code",
   "execution_count": null,
   "metadata": {
    "scrolled": false
   },
   "outputs": [],
   "source": [
    "factorial(4)"
   ]
  },
  {
   "cell_type": "markdown",
   "metadata": {},
   "source": [
    "\n",
    "## Definición de funciones con la declaración *lambda*.\n",
    "\n",
    "Python permite definir funciones en una sola línea mediante el uso del la expresión lambda con la siguiente sintaxis:\n",
    "\n",
    "```\n",
    "lambda <parámetro 1>,  <parámetro 2>...  <parámetro 3> : <expresión>\n",
    "```\n",
    "\n",
    "A este tipo de funciones se les conoce como funciones lambda o funciones anónimas debido a que no requieren de un nombre para ser definidas.\n",
    "\n",
    "Para nombrar a estas funciones se utiliza el operador de asignación ( _=_ ).\n",
    "\n",
    "**Ejemplo:**"
   ]
  },
  {
   "cell_type": "code",
   "execution_count": null,
   "metadata": {},
   "outputs": [],
   "source": [
    "saluda = lambda texto='extraño', ancho=50: 'Hola, {}.'.format(texto).center(ancho)"
   ]
  },
  {
   "cell_type": "code",
   "execution_count": null,
   "metadata": {},
   "outputs": [],
   "source": [
    "type(saluda)"
   ]
  },
  {
   "cell_type": "code",
   "execution_count": null,
   "metadata": {},
   "outputs": [],
   "source": [
    "saluda()"
   ]
  },
  {
   "cell_type": "code",
   "execution_count": null,
   "metadata": {},
   "outputs": [],
   "source": [
    "saluda('Mundo', 20)"
   ]
  },
  {
   "cell_type": "code",
   "execution_count": null,
   "metadata": {},
   "outputs": [],
   "source": [
    "paridad = lambda numero : numero %2 ==0"
   ]
  },
  {
   "cell_type": "code",
   "execution_count": null,
   "metadata": {},
   "outputs": [],
   "source": [
    "paridad(2020)"
   ]
  },
  {
   "cell_type": "code",
   "execution_count": null,
   "metadata": {},
   "outputs": [],
   "source": [
    "filter(paridad,[1,2,3,4,5])"
   ]
  },
  {
   "cell_type": "code",
   "execution_count": null,
   "metadata": {},
   "outputs": [],
   "source": [
    "list(filter(paridad,[1,2,3,4,5]))"
   ]
  },
  {
   "cell_type": "markdown",
   "metadata": {},
   "source": [
    "### Funciones lambda con estructuras *if*... *else*.\n",
    "\n",
    "Las funciones lambda permiten incluir condicionales dentro de su sintaxis de la siguiente forma:\n",
    "```\n",
    "lambda <parámetros>: <expresion_1> if <condición> else <expresión_2>\n",
    "```\n",
    "**Ejemplo:**\n",
    "\n",
    "*es_par* es una función que valida si un número entero ingresado como parámetro es par."
   ]
  },
  {
   "cell_type": "code",
   "execution_count": null,
   "metadata": {},
   "outputs": [],
   "source": [
    "es_par = lambda numero: True if numero % 2 ==0 else False"
   ]
  },
  {
   "cell_type": "code",
   "execution_count": null,
   "metadata": {},
   "outputs": [],
   "source": [
    "es_par(2)"
   ]
  },
  {
   "cell_type": "code",
   "execution_count": null,
   "metadata": {},
   "outputs": [],
   "source": [
    "es_par(3)"
   ]
  },
  {
   "cell_type": "markdown",
   "metadata": {},
   "source": [
    "**Ejemplo:**\n",
    "\n",
    "La función _factorial_ calcula el factorial de un número mediante recursividad. "
   ]
  },
  {
   "cell_type": "code",
   "execution_count": null,
   "metadata": {},
   "outputs": [],
   "source": [
    "factorial = lambda numero: numero * factorial(numero - 1) if numero > 1 else 1"
   ]
  },
  {
   "cell_type": "code",
   "execution_count": null,
   "metadata": {},
   "outputs": [],
   "source": [
    "factorial(-3)"
   ]
  }
 ],
 "metadata": {
  "kernelspec": {
   "display_name": "Python 3 (ipykernel)",
   "language": "python",
   "name": "python3"
  },
  "language_info": {
   "codemirror_mode": {
    "name": "ipython",
    "version": 3
   },
   "file_extension": ".py",
   "mimetype": "text/x-python",
   "name": "python",
   "nbconvert_exporter": "python",
   "pygments_lexer": "ipython3",
   "version": "3.11.4"
  }
 },
 "nbformat": 4,
 "nbformat_minor": 2
}
